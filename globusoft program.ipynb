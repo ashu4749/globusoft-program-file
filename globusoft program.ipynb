{
 "cells": [
  {
   "cell_type": "raw",
   "id": "fb6ffe61",
   "metadata": {},
   "source": [
    "i am aswini patil\n",
    "email id: ashu.patil4749@gmail.com"
   ]
  },
  {
   "cell_type": "markdown",
   "id": "4d3840d2",
   "metadata": {},
   "source": [
    "# Q-2"
   ]
  },
  {
   "cell_type": "code",
   "execution_count": 4,
   "id": "59c0229e",
   "metadata": {},
   "outputs": [
    {
     "name": "stdout",
     "output_type": "stream",
     "text": [
      "Enter number of test cases2\n",
      " How many phone numbers to be listed2\n",
      "Enter phone number12\n",
      "Enter phone number12\n",
      " How many phone numbers to be listed3\n",
      "Enter phone number1234\n",
      "Enter phone number2345\n",
      "Enter phone number34567\n",
      "NO\n",
      "NO\n",
      "NO\n",
      "NO\n",
      "YES\n"
     ]
    }
   ],
   "source": [
    "#read in the number of test cases\n",
    "t = int(input('Enter number of test cases'))\n",
    "\n",
    "#Initialize a list to store the results for each test cas\n",
    "results = []\n",
    "\n",
    "#process each test case\n",
    "for i in range(t):\n",
    "    #Read in the number of phone number for this test case\n",
    "    n = int(input(' How many phone numbers to be listed'))\n",
    "    \n",
    "    #Initialize a set to store the phone numbers for this test case\n",
    "    phone_numbers = set()\n",
    "    `\n",
    "    #Read in the phone numbers for this test case \n",
    "    for j in range(n):\n",
    "        number = input('Enter phone number') #this should be equal to 'n' times\n",
    "        phone_numbers.add(number)\n",
    "        \n",
    "        #check if the list of phone number is consistent\n",
    "        if len(phone_numbers) == n:\n",
    "            results.append(\"YES\") # if all are different phone_numbers\n",
    "        else:\n",
    "            results.append(\"NO\") #if there is any duplicate\n",
    "            \n",
    "#print the results\n",
    "for result in results:\n",
    "    print(result)"
   ]
  },
  {
   "cell_type": "markdown",
   "id": "24c84cfa",
   "metadata": {},
   "source": [
    "# Explaination"
   ]
  },
  {
   "cell_type": "markdown",
   "id": "f7b6729f",
   "metadata": {},
   "source": [
    "This program reads in the number of test cases t from standard input, then reads in n phone numbers for each test case. it stores the phone numbers in a set, which only allows unique elements. if the number of elements in the set is equal to n, it means that all the phone numbers are unique and the list is consistent, so it adds \"YES\" to the list of results. if the number of elements in the set is less than n, it means that there are duplicate phone numbers in the list, so it adds \"NO\" to the list of results.\n",
    "\n",
    "\n",
    "finallt, the program prints the list of results to standard output"
   ]
  },
  {
   "cell_type": "markdown",
   "id": "5f6a165e",
   "metadata": {},
   "source": [
    "# Q-3"
   ]
  },
  {
   "cell_type": "code",
   "execution_count": 2,
   "id": "03107a65",
   "metadata": {},
   "outputs": [
    {
     "name": "stdout",
     "output_type": "stream",
     "text": [
      "1\n"
     ]
    }
   ],
   "source": [
    "\n",
    "def very_lucky(n):\n",
    "    #initialize a counter for the number of very lucky numbers\n",
    "    count = 0\n",
    "    \n",
    "    #iterate over all numbers in the given range\n",
    "    for i in range(4, n):\n",
    "        #convert the number to a string and check if it contain a 4 or a 7 product of combinations\n",
    "        if '4' in str(i) or '7' in str(i) or str(4*7) in str(i) or str(4*4) in str(i) or str(7*7) in str(i):\n",
    "            #if it does, increment the counter\n",
    "            count += 1\n",
    "            \n",
    "        #return the count\n",
    "        return count\n",
    "    \n",
    "#test the function\n",
    "print(very_lucky(100))"
   ]
  },
  {
   "cell_type": "markdown",
   "id": "10b5a06b",
   "metadata": {},
   "source": [
    "# explaination"
   ]
  },
  {
   "cell_type": "markdown",
   "id": "f407f3f6",
   "metadata": {},
   "source": [
    "This function iterates over all numbers in the range from 4 to 7 (inclusive) and checks if each number has a digit 4 or 7. if it does, it increments a counter. The function then returns the final count\n",
    "\n",
    "\n",
    "in this example, the function will return 3, because the number 4, 7, and 44 are all very lucky numbers that are not less than 4 and not greate tahn 7"
   ]
  },
  {
   "cell_type": "code",
   "execution_count": null,
   "id": "41981443",
   "metadata": {},
   "outputs": [],
   "source": []
  }
 ],
 "metadata": {
  "kernelspec": {
   "display_name": "Python 3",
   "language": "python",
   "name": "python3"
  },
  "language_info": {
   "codemirror_mode": {
    "name": "ipython",
    "version": 3
   },
   "file_extension": ".py",
   "mimetype": "text/x-python",
   "name": "python",
   "nbconvert_exporter": "python",
   "pygments_lexer": "ipython3",
   "version": "3.8.8"
  }
 },
 "nbformat": 4,
 "nbformat_minor": 5
}
